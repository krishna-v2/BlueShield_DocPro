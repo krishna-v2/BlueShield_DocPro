{
 "cells": [
  {
   "cell_type": "code",
   "execution_count": 1,
   "id": "561e5614",
   "metadata": {},
   "outputs": [],
   "source": [
    "from os.path import join\n",
    "import random\n",
    "import io\n",
    "import cv2\n",
    "import matplotlib.pyplot as plt\n",
    "import barcode"
   ]
  },
  {
   "cell_type": "code",
   "execution_count": 3,
   "id": "a385a501",
   "metadata": {},
   "outputs": [],
   "source": [
    "working_dir = r'C:\\Users\\vineet\\OneDrive - V2 Tech Ventures Pvt Ltd\\blueshield\\BS_Test_Data_2022_04_14'"
   ]
  },
  {
   "cell_type": "code",
   "execution_count": 4,
   "id": "f1c549b7",
   "metadata": {},
   "outputs": [],
   "source": [
    "filename = 'Random_Names.txt'"
   ]
  },
  {
   "cell_type": "code",
   "execution_count": 5,
   "id": "d3757c8e",
   "metadata": {},
   "outputs": [],
   "source": [
    "filepath = join(working_dir, filename)"
   ]
  },
  {
   "cell_type": "code",
   "execution_count": 6,
   "id": "efff3a47",
   "metadata": {},
   "outputs": [],
   "source": [
    "f = open(filepath, 'r')"
   ]
  },
  {
   "cell_type": "code",
   "execution_count": 7,
   "id": "f2285cb8",
   "metadata": {},
   "outputs": [],
   "source": [
    "lines = f.readlines()"
   ]
  },
  {
   "cell_type": "code",
   "execution_count": 8,
   "id": "843c5677",
   "metadata": {},
   "outputs": [],
   "source": [
    "f.close()"
   ]
  },
  {
   "cell_type": "code",
   "execution_count": 9,
   "id": "7c03ebf5",
   "metadata": {},
   "outputs": [],
   "source": [
    "names = []\n",
    "for name in lines:\n",
    "    names.append(name.strip('\\n'))"
   ]
  },
  {
   "cell_type": "code",
   "execution_count": 10,
   "id": "cd85d4ae",
   "metadata": {},
   "outputs": [],
   "source": [
    "random_name = random.choice(names)"
   ]
  },
  {
   "cell_type": "code",
   "execution_count": 11,
   "id": "01835f66",
   "metadata": {},
   "outputs": [
    {
     "data": {
      "text/plain": [
       "'Charles King'"
      ]
     },
     "execution_count": 11,
     "metadata": {},
     "output_type": "execute_result"
    }
   ],
   "source": [
    "random_name\n"
   ]
  },
  {
   "cell_type": "code",
   "execution_count": 12,
   "id": "73e6236a",
   "metadata": {},
   "outputs": [],
   "source": [
    "def file_to_items(filepath):\n",
    "    f = open(filepath, 'r')\n",
    "    lines = f.readlines()\n",
    "    f.close()\n",
    "    names = []\n",
    "    for name in lines:\n",
    "        names.append(name.strip('\\n'))\n",
    "    return names\n",
    "    "
   ]
  },
  {
   "cell_type": "code",
   "execution_count": 13,
   "id": "9c0e40d6",
   "metadata": {},
   "outputs": [],
   "source": [
    "address_filepath = join(working_dir, 'Random_Addresses.txt')\n",
    "address = file_to_items(address_filepath)\n",
    "\n",
    "names_filepath = join(working_dir, 'Random_Names.txt' )\n",
    "names = file_to_items(names_filepath)\n",
    "\n",
    "phone_filepath = join(working_dir, 'Random_Telephone_Numbers.txt')\n",
    "phones = file_to_items(phone_filepath)\n",
    "\n",
    "email_filepath = join(working_dir, 'Random_Email_IDs.txt')\n",
    "emails = file_to_items(email_filepath)"
   ]
  },
  {
   "cell_type": "code",
   "execution_count": 15,
   "id": "49c0ba4b",
   "metadata": {},
   "outputs": [],
   "source": [
    "address_correct = []\n",
    "for add in address:\n",
    "    if add[-1].isdigit():\n",
    "        address_correct.append(add)"
   ]
  },
  {
   "cell_type": "code",
   "execution_count": null,
   "id": "bf30503b",
   "metadata": {},
   "outputs": [],
   "source": []
  },
  {
   "cell_type": "code",
   "execution_count": null,
   "id": "4e4c2082",
   "metadata": {},
   "outputs": [],
   "source": []
  },
  {
   "cell_type": "code",
   "execution_count": 16,
   "id": "15644213",
   "metadata": {},
   "outputs": [],
   "source": [
    "records = ['\\t'.join(['name', 'address', 'phone', 'email', 'mail_checkbox', 'phone_checkbox', 'email_checkbox']) +  '\\n']\n",
    "for i in range(200):\n",
    "    random_name = random.choice(names)\n",
    "    random_address = random.choice(address_correct)\n",
    "    random_phone = random.choice(phones)\n",
    "    random_email = random.choice(emails)\n",
    "    mail_checkbox = random.choice([0, 1])\n",
    "    phone_checkbox = random.choice([0, 1])\n",
    "    email_checkbox = int(max([mail_checkbox, phone_checkbox]) == 0)\n",
    "    records.append('\\t'.join([random_name, random_address, random_phone, random_email, str(mail_checkbox), str(phone_checkbox), str(email_checkbox)])+  '\\n')\n",
    "   "
   ]
  },
  {
   "cell_type": "code",
   "execution_count": 17,
   "id": "e6e616e6",
   "metadata": {},
   "outputs": [
    {
     "data": {
      "text/plain": [
       "['name\\taddress\\tphone\\temail\\tmail_checkbox\\tphone_checkbox\\temail_checkbox\\n',\n",
       " 'Mario Patterson\\t11 Spring St., Parlin, NJ 08859\\t(800) 272-2216\\tpmehta@kyrasolutions.com\\t0\\t0\\t1\\n',\n",
       " 'Mrs. Patricia Rodriguez\\t825 N. Prospect St., Ellicott City, MD 21042\\t-\\tolivier.kohler@wsj.com\\t1\\t1\\t0\\n',\n",
       " 'Mario Martin\\t49 Saxton Lane, Simpsonville, SC 29680\\t(800) 724-2440\\tsyi@gamefly.com\\t0\\t0\\t1\\n',\n",
       " \"Philip Dorsey\\t480 Grove Ave., Newington, CT 06111\\t'+44 20 7486 5888\\tstocklam@rogers.com\\t1\\t1\\t0\\n\",\n",
       " \"Kimberly Landry\\t561 N. Vernon St., North Canton, OH 44720\\t'+82 2-6200-9700\\tpaul.rodgers@microfocus.com\\t0\\t0\\t1\\n\",\n",
       " 'Jennifer Klein\\t8278 SE. Bridgeton Ave., Adrian, MI 49221\\t(314) 725-4477\\tishay@rentalbeast.com \\t0\\t1\\t0\\n',\n",
       " 'Roberta Fox\\t205 Brickyard Circle, Aberdeen, SD 57401\\t(408) 727-5555\\tWilliam.Pugliese@arvatousa.com\\t0\\t0\\t1\\n',\n",
       " 'Kathleen Hampton\\t35 James Avenue, Griffin, GA 30223\\t(224) 667-6100\\tkschellhase1@gmail.com\\t1\\t1\\t0\\n',\n",
       " 'Heather Henson\\t225 Smoky Hollow Street, Manitowoc, WI 54220\\t(888) 932-8373\\tabaca@caesars.com\\t1\\t1\\t0\\n',\n",
       " 'Morgan Booker\\t612 Cardinal Ave., The Villages, FL 32162\\t(713) 672-8080\\tkmichelmore@harvestproperties.com\\t0\\t0\\t1\\n',\n",
       " 'Jon Khan\\t91 Roehampton Rd., Massapequa Park, NY 11762\\t(800) 366-8201\\ttim@droidsagency.com\\t1\\t1\\t0\\n',\n",
       " 'Ethan Davis\\t301 Smoky Hollow Ave., Harrison Township, MI 48045\\t-\\tlaking@adobe.com\\t0\\t1\\t0\\n',\n",
       " 'Cynthia Jackson\\t382 Riverside Ave., Millville, NJ 08332\\t832.247.9285\\ttony.minana@digitalworkforce.dk\\t0\\t1\\t0\\n',\n",
       " 'Jennifer Lewis\\t848 York Lane, Algonquin, IL 60102\\t(408) 492-1650\\tanthony.stifano@hbc.com\\t0\\t0\\t1\\n',\n",
       " 'Jared Solis\\t545 Magnolia St., Richardson, TX 75080\\t(617) 374-9600\\tt_connelly@acs.org\\t1\\t1\\t0\\n',\n",
       " 'Jesse Ball\\t860 Rockland St., Harrisburg, PA 17109\\t8004265962\\tfola.soyoye@onyxhealth.io\\t1\\t0\\t0\\n',\n",
       " 'Monique Lynch\\t85 Forest Ave., Bridgeton, NJ 08302\\t(800) 901-1087\\tleigh.pullen@cigen.com.au\\t1\\t1\\t0\\n',\n",
       " 'Raymond Woods\\t385 SE. Shirley Dr., Culpeper, VA 22701\\t(646) 865-2000\\tpierre.col@sap.com\\t0\\t0\\t1\\n',\n",
       " 'Olivia Taylor\\t987 El Dorado Avenue, Lorain, OH 44052\\t(289) 562-0088\\tkmcloughlin@shutterstock.com\\t0\\t1\\t0\\n',\n",
       " 'Justin Morales\\t8490 East Sutor Dr., New Rochelle, NY 10801\\t(828) 324-2200\\tamy.romagnoli@agilent.com\\t0\\t0\\t1\\n',\n",
       " 'Brianna Wagner\\t9014 Oxford Ave., Bethlehem, PA 18015\\t(216) 444-3900\\taarthi.cadambe@wellsfargo.com\\t1\\t1\\t0\\n',\n",
       " \"Shawn Gonzalez\\t14 Windfall Court, Homestead, FL 33030\\t'+18557106984\\tjason@careerpillar.com\\t0\\t1\\t0\\n\",\n",
       " 'Alexandra Flores\\t162 Pennsylvania Avenue, Ballston Spa, NY 12020\\t(651) 737-6523\\tpriyadarshimishra13@gmail.com\\t1\\t0\\t0\\n',\n",
       " 'Frank Baker\\t803 North St., Henrico, VA 23228\\t(877) 302-5073\\tvenkat.arakoni@commscope.com\\t0\\t1\\t0\\n',\n",
       " 'Gary Watts\\t9598 East Hamilton Rd., Roy, UT 84067\\t-\\tmelissa.clack@caresource.com\\t0\\t0\\t1\\n',\n",
       " 'Crystal Hamilton\\t9863 Cobblestone Lane, Malvern, PA 19355\\t(908) 977-8520\\tbarrett.shrader@protiviti.com\\t1\\t1\\t0\\n',\n",
       " 'Benjamin Robertson\\t684 Valley View Road, El Paso, TX 79930\\t(202) 872-4600\\tjohn.bird@abbott.com\\t1\\t0\\t0\\n',\n",
       " 'Andrew Matthews\\t38 Manor Drive, Freeport, NY 11520\\t(770) 813-9200\\tjason.pondant@anadarko.com\\t0\\t1\\t0\\n',\n",
       " 'Eric Bell\\t56 Grant St., Englewood, NJ 07631\\t(510) 594-2050\\tjean.olivieri@adp.com\\t0\\t1\\t0\\n',\n",
       " 'David Kennedy\\t587 Manhattan Lane, Lanham, MD 20706\\t(978) 320-5040\\tpaolo.bianchi@sandvik.com\\t0\\t0\\t1\\n',\n",
       " 'Donna Simon\\t517 High Point Street, Elk River, MN 55330\\t(800) 724-2440\\twilliamd@treasuryone.co.za\\t1\\t1\\t0\\n',\n",
       " 'Marisa Berger\\t6 Wayne Drive, Indianapolis, IN 46201\\t(703) 968-9000\\tjlozano@deloittedigital.com\\t1\\t0\\t0\\n',\n",
       " 'Darren Berry\\t557C Lakeshore Street, Fairburn, GA 30213\\t//0476720287\\tc.dunlop@tricentis.com\\t1\\t0\\t0\\n',\n",
       " \"Dana Garcia\\t9014 Oxford Ave., Bethlehem, PA 18015\\t'+44 20 3514 7522\\tmajor.alison@corp.sysco.com\\t1\\t1\\t0\\n\",\n",
       " 'Stacey Thompson\\t7579 Jackson St., Mahopac, NY 10541\\t(828) 324-2200\\tdaniel.steenbrink@sandvik.com\\t0\\t1\\t0\\n',\n",
       " 'Aaron Hill PhD\\t431 Beach St., Woonsocket, RI 02895\\t(603) 929-1166\\tchetan.chopra@artech.com\\t1\\t0\\t0\\n',\n",
       " 'Megan Pugh\\t915 E. Marsh Rd., Mcdonough, GA 30252\\t(800) 832-5452\\tlouis@wineglassmarketing.com\\t0\\t1\\t0\\n',\n",
       " 'Dennis Rodriguez\\t7554 Swanson Drive, North Miami Beach, FL 33160\\t(978) 370-2700\\tabhatt@kyrasolutions.com\\t0\\t0\\t1\\n',\n",
       " 'Lisa Rogers\\t87 East Belmont Ave., Powder Springs, GA 30127\\t(650) 427-1000\\ttgoldman@shutterstock.com\\t0\\t1\\t0\\n',\n",
       " 'Ian Wade Jr.\\t7472 Washington Rd., Solon, OH 44139\\t(877) 297-8912\\tsrechler@rxrrealty.com\\t0\\t0\\t1\\n',\n",
       " 'Sarah Schultz\\t9118 Jockey Hollow Dr., Superior, WI 54880\\t(702) 407-6000\\tpreston.wood@bankofthewest.com\\t1\\t1\\t0\\n',\n",
       " 'Paul Pineda\\t9092 Military Ave., Maplewood, NJ 07040\\t-\\tshanejason.mock@americanfidelity.com\\t0\\t1\\t0\\n',\n",
       " 'Robert Watkins\\t504 Plumb Branch Drive, North Fort Myers, FL 33917\\t(781) 357-9900\\trudolph@treasuryone.co.za\\t1\\t0\\t0\\n',\n",
       " \"Jessica Jefferson\\t404 Vale St., Union City, NJ 07087\\t'+46 70 230 85 69\\trohit.6535307@gmail.com\\t1\\t1\\t0\\n\",\n",
       " 'Michael Wiley\\t63 High Point St., Baltimore, MD 21206\\t-\\tjos.vanderlinden@barentz.nl\\t1\\t0\\t0\\n',\n",
       " 'Lindsey Henderson\\t949 W. Summer Ave., Bowie, MD 20715\\t(732) 728-5310\\tkurt.knackstedt@troovo.com\\t0\\t0\\t1\\n',\n",
       " 'Susan Galvan\\t60 Blackburn Drive, Collierville, TN 38017\\t-\\tkriley@houstonmethodist.org\\t1\\t1\\t0\\n',\n",
       " 'Laura Torres\\t405 Del Monte Street, Marquette, MI 49855\\t(314) 292-2000\\tlee.patsel@adm.com\\t0\\t1\\t0\\n',\n",
       " 'Karla Beasley\\t46 South Homestead Street, Saint Paul, MN 55104\\t(303) 708-7140\\tcynthia.finley@thehartford.com\\t1\\t1\\t0\\n',\n",
       " \"Douglas Johnson\\t242 Pennington Lane, Southaven, MS 38671\\t'+45 45 86 79 00\\tsm@initsys.com\\t1\\t1\\t0\\n\",\n",
       " 'Briana Ross\\t9463 Madison St., Columbus, GA 31904\\t(800) 659-5495\\tbarry.shurkey@nttdata.com\\t0\\t0\\t1\\n',\n",
       " 'Alejandro Hogan\\t75 Glen Creek St., Huntington, NY 11743\\t(512) 600-3239\\tsean.hendrickson@lendingtree.com\\t0\\t0\\t1\\n',\n",
       " 'Kaitlyn Casey\\t611 Catherine Road, Erie, PA 16506\\t(203) 338-7001\\tcarlos.torres2@bnsf.com\\t0\\t1\\t0\\n',\n",
       " 'Jessica Warren\\t480 Grove Ave., Newington, CT 06111\\t(206) 876-2100\\tfelipe.dubus@petrobras.com.br\\t0\\t1\\t0\\n',\n",
       " 'Jay Carter\\t650 Swanson Street, Revere, MA 02151\\t(650) 234-6000\\tkbethard@essilorusa.com\\t1\\t0\\t0\\n',\n",
       " 'Alejandro Hogan\\t58 Circle Road, Cocoa, FL 32927\\t(513) 369-5000\\trbeal@perrybrokerage.com\\t0\\t0\\t1\\n',\n",
       " 'Shannon Maynard\\t906 Greenview Avenue, Port Jefferson Station, NY 11776\\t(800) 659-5495\\tmitcheb@amazon.com\\t1\\t0\\t0\\n',\n",
       " 'Jonathan Strong\\t247 Essex St., San Carlos, CA 94070\\t(703) 707-9680\\tgeff.wood@alcoa.com\\t1\\t1\\t0\\n',\n",
       " 'Jason Salazar\\t252 53rd Lane, Redondo Beach, CA 90278\\t80040000\\tdave.stewart@lfg.com\\t0\\t1\\t0\\n',\n",
       " 'Courtney Gill\\t67 Ridgewood Rd., Middle River, MD 21220\\t(614) 885-2100\\tfanie@firtech.co.za\\t1\\t1\\t0\\n',\n",
       " \"Susan Holt\\t768 Cross Lane, Malden, MA 02148\\t'+46 8 456 11 00\\tdvestal@vestalmfg.com\\t1\\t1\\t0\\n\",\n",
       " 'David Espinoza\\t914 West Country Lane, Winter Garden, FL 34787\\t(412) 856-0354\\tcalvin@brightmark.ca\\t0\\t1\\t0\\n',\n",
       " \"Jonathon Watson\\t16 Theatre Dr., Irmo, SC 29063\\t'+44 1709 531931\\tdaniel.steenbrink@sandvik.com\\t0\\t0\\t1\\n\",\n",
       " 'Christian Smith\\t6 Edgewood Drive, Lebanon, PA 17042\\t(336) 545-7817\\tamitmalviyan@gmail.com\\t1\\t0\\t0\\n',\n",
       " \"Nancy Weber\\t9664 West Berkshire Lane, Chevy Chase, MD 20815\\t'+32%203%20561%2025%2058\\tjoseferrerh@gmail.com\\t1\\t1\\t0\\n\",\n",
       " 'Jonathan Morgan\\t454 Bishop St., Powell, TN 37849\\t(702) 407-6000\\tdgkchintalapudi@gmail.com\\t0\\t0\\t1\\n',\n",
       " 'Jaime Williams\\t856 Manor Station St., Palos Verdes Peninsula, CA 90274\\t-\\tHoward.Zeemer@lendingtree.com\\t0\\t1\\t0\\n',\n",
       " 'Peggy Martinez\\t8235 Bohemia St., Mebane, NC 27302\\t-\\tnicole.mancino@usbank.com\\t1\\t1\\t0\\n',\n",
       " 'Julia Martin\\t938 1st Drive, Peachtree City, GA 30269\\t(713) 790-3311\\tb.goodman@appliedsystems.com\\t1\\t1\\t0\\n',\n",
       " \"Tonya Soto\\t937 Pin Oak St., Huntley, IL 60142\\t'+90 212 478 35 35\\trenukachavan.30@gmail.com\\t0\\t1\\t0\\n\",\n",
       " 'David Anderson\\t35 James Avenue, Griffin, GA 30223\\t(816) 448-7493\\tishay@rentalbeast.com \\t0\\t1\\t0\\n',\n",
       " 'Jack Noble\\t851 St Louis St., Wayne, NJ 07470\\t(713) 672-8080\\tjgranick@shutterstock.com\\t1\\t1\\t0\\n',\n",
       " 'Lisa Chan\\t852 Creekside St., West Hempstead, NY 11552\\t(615) 770-2000\\tcarin.coates@capitalone.com\\t1\\t1\\t0\\n',\n",
       " 'Tiffany Dyer\\t9347 W. Valley View Ave., Douglasville, GA 30134\\t(423) 337-6125\\tzkhan@rpost.com\\t1\\t0\\t0\\n',\n",
       " 'Monique Lynch\\t335 Nicolls Circle, Hastings, MN 55033\\t(408) 392-0200\\twahrens@burnsmcd.com\\t0\\t1\\t0\\n',\n",
       " 'Matthew Thomas\\t457 Creekside Street, Hamilton, OH 45011\\t-\\tcschottanes@shutterstock.com\\t0\\t1\\t0\\n',\n",
       " 'Suzanne Bishop\\t8973 Plymouth Street, Green Cove Springs, FL 32043\\t(510) 528-7736\\taftab.ahmed@conocophillips.com\\t0\\t0\\t1\\n',\n",
       " \"Shawn Wiggins\\t299 Ridge Dr., New Berlin, WI 53151\\t'+61 2 8318 8030\\tsteve.wisner@genworth.com\\t0\\t1\\t0\\n\",\n",
       " 'Benjamin Henry\\t57 South James Street, Orland Park, IL 60462\\t-\\tjimmi@spitzeco.dk\\t0\\t0\\t1\\n',\n",
       " 'Norma Collins\\t674 Goldfield Street, Bismarck, ND 58501\\t(800) 724-2440\\tÂ\\xa0manoj.pandey@osourceindia.com\\t1\\t0\\t0\\n',\n",
       " \"Carl King\\t7 South White Dr., Zanesville, OH 43701\\t'+31 20 316 2880\\tpavel_gimelberg@epam.com\\t0\\t1\\t0\\n\",\n",
       " \"Shane Smith\\t517 High Point Street, Elk River, MN 55330\\t'+52 55 9157 8700\\tjrealini@primexinc.com\\t1\\t1\\t0\\n\",\n",
       " 'Michael Duran\\t344 Constitution Street, Indiana, PA 15701\\t(808) 842-8211\\trandy@johnsonhospitality.com\\t1\\t1\\t0\\n',\n",
       " 'Adrian Mcclure\\t665 NW. Lake St., Boynton Beach, FL 33435\\t(651) 737-6523\\tnathan@brightmark.ca\\t0\\t0\\t1\\n',\n",
       " 'Nina Lam\\t7464 West Winchester Rd., Longview, TX 75604\\t(770) 351-3000\\tjrealini@primexinc.com\\t1\\t1\\t0\\n',\n",
       " 'Alexandra Flores\\t7669B High Point Drive, Lockport, NY 14094\\t(978) 370-2700\\tjose.alvarez@auxis.com\\t0\\t0\\t1\\n',\n",
       " 'Danielle Ferguson\\t18 Ketch Harbour St., Ada, OK 74820\\t(844) 282-6233\\tsachin.karla@infostretch.com\\t1\\t1\\t0\\n',\n",
       " 'John Thomas\\t7789 Illinois Rd., Tupelo, MS 38801\\t-\\tmajor.alison@corp.sysco.com\\t1\\t0\\t0\\n',\n",
       " 'Kevin King\\t6 Wayne Drive, Indianapolis, IN 46201\\t(713) 672-8080\\tmmassucci@bloomberg.net\\t0\\t0\\t1\\n',\n",
       " 'Christian Smith\\t8785 Penn Dr., Georgetown, SC 29440\\t(703) 968-9000\\tyolanda@opportunityatwork.org\\t1\\t1\\t0\\n',\n",
       " 'Amanda Young\\t9405 Ohio Lane, West Des Moines, IA 50265\\t(800) 272-2216\\tkyle@workfusion.com\\t0\\t0\\t1\\n',\n",
       " 'Elizabeth Phillips\\t85 Forest Ave., Bridgeton, NJ 08302\\t(512) 600-3239\\taftab.ahmed@conocophillips.com\\t1\\t0\\t0\\n',\n",
       " 'Monique Lynch\\t7867 Illinois Court, Hackettstown, NJ 07840\\t(352) 332-8800\\thenniedk@treasuryone.co.za\\t1\\t0\\t0\\n',\n",
       " 'Ryan Hutchinson\\t9014 Oxford Ave., Bethlehem, PA 18015\\t-\\tdvestal@vestalmfg.com\\t1\\t0\\t0\\n',\n",
       " 'Ethan Davis\\t9921 Tallwood Street, Eden Prairie, MN 55347\\t(214) 777-5600\\tjmehler@ci-group.com\\t0\\t1\\t0\\n',\n",
       " 'David Harris\\t553 Theatre Ave., Kaukauna, WI 54130\\t2127971330\\tmalay.dalal@lfg.com\\t0\\t0\\t1\\n',\n",
       " 'Carly Morton\\t8249 Hillside Dr., Norristown, PA 19401\\t(512) 600-3239\\tanonya.bagchi@infostretch.com\\t1\\t0\\t0\\n',\n",
       " 'Arthur Davis\\t7055 Ramblewood St., Gettysburg, PA 17325\\t(281) 331-6154\\tarecalde@rpa.com\\t1\\t0\\t0\\n',\n",
       " 'Melissa Owens\\t372 Rocky River Ave., Oak Park, MI 48237\\t(289) 562-0088\\tjavier@pond5.com\\t1\\t0\\t0\\n',\n",
       " 'Ethan Davis\\t175 Ridgeview St., Brunswick, GA 31525\\t-\\tken.pellegrino@shibumi.com\\t1\\t1\\t0\\n',\n",
       " 'Charles Wright\\t9812 Meadowbrook Drive, Long Beach, NY 11561\\t(800) 560-9305\\tjsypkens@bdo.com\\t0\\t0\\t1\\n',\n",
       " 'James Cummings\\t7341 N. Snake Hill Street, Hartford, CT 06106\\t(949) 335-5335\\tlschmitz@caesars.com\\t0\\t1\\t0\\n',\n",
       " 'Kathleen Bates\\t9863 Cobblestone Lane, Malvern, PA 19355\\t(615) 344-9551\\tchris.bryan@tullowoil.com\\t0\\t1\\t0\\n',\n",
       " 'Lisa Chan\\t759 Central Court, Herndon, VA 20170\\t(800) 724-2440\\thr.simeonov@gmail.com\\t1\\t1\\t0\\n',\n",
       " 'Debbie Wells\\t8757 Morris Street, Taylors, SC 29687\\t(800) 580-4505\\twahrens@burnsmcd.com\\t1\\t0\\t0\\n',\n",
       " 'David Williams\\t299 Ridge Dr., New Berlin, WI 53151\\t(800) 872-3862\\ttom@gore-eventsconsult.com\\t0\\t1\\t0\\n',\n",
       " 'Thomas Mckinney\\t29 North Brandywine Dr., Paducah, KY 42001\\t(800) 325-2865\\thsingla@kyrasolutions.com\\t0\\t0\\t1\\n',\n",
       " \"Danielle Ferguson\\t856 Manor Station St., Palos Verdes Peninsula, CA 90274\\t'+45 22 61 91 09\\tjavier@pond5.com\\t0\\t0\\t1\\n\",\n",
       " 'Scott Powers\\t90 Westport St., Westport, CT 06880\\t(770) 351-3000\\tkeith.dicharry@basf.com\\t0\\t1\\t0\\n',\n",
       " 'Sarah Curry\\t460 Edgefield Dr., Lynnwood, WA 98037\\t(646) 865-2000\\tconsultants@halanthony.com\\t0\\t1\\t0\\n',\n",
       " 'Jose Jones\\t9812 North Pleasant Ave., Ravenna, OH 44266\\t-\\t-\\t0\\t1\\t0\\n',\n",
       " 'Douglas Carter\\t948 Woodsman Court, Stoughton, MA 02072\\t(800) 214-6094\\tlynne.mische@hsbc.com\\t0\\t0\\t1\\n',\n",
       " 'James Brown\\t7606 North Lane, Youngstown, OH 44512\\t-\\tdylan@ca-mgmt.com\\t0\\t1\\t0\\n',\n",
       " 'Lisa Kaiser\\t8278 SE. Bridgeton Ave., Adrian, MI 49221\\t-\\trbeal@perrybrokerage.com\\t1\\t1\\t0\\n',\n",
       " 'William Delgado\\t7568 Philmont Ave., Bel Air, MD 21014\\t-\\tsanderson@primexinc.com\\t1\\t0\\t0\\n',\n",
       " 'Dr. Wayne Delacruz\\t56 Winding Way Street, Green Bay, WI 54302\\t(800) 214-6094\\tcellsworth@rangoinc.com\\t1\\t0\\t0\\n',\n",
       " \"Samantha Nicholson\\t22 SE. Argyle Rd., Deer Park, NY 11729\\t'+44 20 7486 5888\\tbmosley@reigningchamps.com\\t1\\t0\\t0\\n\",\n",
       " 'Heather Maxwell\\t4 Green Hill Lane, Skokie, IL 60076\\t(828) 324-2200\\tjason.pondant@anadarko.com\\t1\\t0\\t0\\n',\n",
       " 'John Morgan\\t80 NW. Bay St., Southampton, PA 18966\\t(800) 426-4968\\tronald.storch@marcumllp.com\\t0\\t0\\t1\\n',\n",
       " \"Teresa Washington\\t219 East Arch Street, Pasadena, MD 21122\\t'+52 55 9157 8700\\tronald.storch@marcumllp.com\\t1\\t1\\t0\\n\",\n",
       " 'Mr. Cody Anderson\\t41 Lawrence Street, Clermont, FL 34711\\t(800) 531-8722\\tanna.ewing@imacorp.com\\t1\\t0\\t0\\n',\n",
       " 'Ronald Copeland\\t759 Central Court, Herndon, VA 20170\\t(202) 872-4600\\tholly.uhl@stateauto.com\\t1\\t1\\t0\\n',\n",
       " 'Christina Garrett\\t7100 South Stonybrook Dr., Shelton, CT 06484\\t(844) 710-4748\\tpdle@novonordisk.com\\t0\\t0\\t1\\n',\n",
       " 'Larry Munoz\\t58 Plumb Branch Street, Billings, MT 59101\\t(410) 782-0476\\tclayton.liabraaten@pureintegration.com\\t0\\t1\\t0\\n',\n",
       " 'Jamie Williamson\\t703 Santa Clara Avenue, La Crosse, WI 54601\\t(650) 234-6000\\tschakravarty@virtusa.com\\t0\\t0\\t1\\n',\n",
       " 'Heather Henson\\t469 Lake St., Crofton, MD 21114\\t(614) 885-2100\\tjeffrey.shorman@wellsfargo.com\\t0\\t1\\t0\\n',\n",
       " 'Emma Mcbride\\t151 Edgewater St., Pittsfield, MA 01201\\t(267) 759-9000\\tjosh.tayloe@rentalbeast.com \\t1\\t1\\t0\\n',\n",
       " 'Joseph Mullen\\t29 Cemetery Street, Sewell, NJ 08080\\t501-303-8039\\ts.nair@tricentis.com\\t1\\t0\\t0\\n',\n",
       " 'Jennifer Payne\\t14 Oxford St., Cranberry Twp, PA 16066\\t-\\ttsmith@tiaonline.org\\t1\\t0\\t0\\n',\n",
       " 'Taylor Wang\\t7313 Wall St., Uniontown, PA 15401\\t(516) 367-1095\\t\\t0\\t1\\t0\\n',\n",
       " 'Victor Hamilton\\t49 Saxton Lane, Simpsonville, SC 29680\\t(615) 770-2000\\tShalin.shah@infostretch.com\\t1\\t0\\t0\\n',\n",
       " 'Susan Holt\\t842 Hall Court, Canfield, OH 44406\\t(800) 767-2364\\tjlozano@deloittedigital.com\\t0\\t0\\t1\\n',\n",
       " 'Maureen Mcintyre\\t52 Poplar Avenue, Camden, NJ 08105\\t(414) 357-2290\\talex@imperfectfoods.com\\t1\\t1\\t0\\n',\n",
       " 'Bobby Gonzalez\\t25 Tarkiln Hill Dr., Melrose, MA 02176\\t(310) 394-4000\\thimanshu.srivastava@metso.com\\t1\\t0\\t0\\n',\n",
       " 'Linda Bryant\\t245 High Ridge Ave., Largo, FL 33771\\t(844) 282-6233\\tjrealini@primexinc.com\\t1\\t0\\t0\\n',\n",
       " 'Michael Shaw\\t249 Bridge Road, Auburndale, FL 33823\\t(800) 815-1518\\tswamy.kotagiri@magna.com\\t1\\t1\\t0\\n',\n",
       " \"Alexander Jackson\\t63 Bow Ridge Lane, Hyattsville, MD 20782\\t'+971 4 328 5104\\tasim.ghanchi@bnsf.com\\t0\\t0\\t1\\n\",\n",
       " 'Kenneth Smith\\t226 Andover Avenue, Fairport, NY 14450\\t(650) 427-1000\\tchinitzg@aetna.com\\t0\\t0\\t1\\n',\n",
       " 'Maureen Mcintyre\\t41 Big Rock Cove St., Savage, MN 55378\\t(262) 754-9400\\tryan.shannon@solarspectrum.com\\t0\\t1\\t0\\n',\n",
       " \"Robert Watkins\\t984 Hamilton St., Glendale Heights, IL 60139\\t'+91 22 3064 2100\\tmajor.alison@corp.sysco.com\\t1\\t1\\t0\\n\",\n",
       " 'Robert Bean\\t48 North Cedar Swamp Street, Tucson, AZ 85718\\t80040000\\tsteven.smith@bdo.co.uk\\t0\\t1\\t0\\n',\n",
       " 'Lindsay Delgado\\t226 Augusta Dr., Matawan, NJ 07747\\t(212) 332-3790\\tmarie.gutgesell@capitalone.com\\t1\\t1\\t0\\n',\n",
       " 'Joshua Garrett\\t66 Manor St., Coatesville, PA 19320\\t(800) 456-3355\\tlouis@wineglassmarketing.com\\t1\\t0\\t0\\n',\n",
       " 'Maria Stewart\\t9463 Madison St., Columbus, GA 31904\\t(512) 467-8080\\tjeff.ryan@blackrock.com\\t1\\t0\\t0\\n',\n",
       " 'Richard Glenn\\t951 Market Street, Warner Robins, GA 31088\\t(877) 244-0304\\tshekhar.damle@capitalone.com\\t1\\t0\\t0\\n',\n",
       " 'Zachary Lewis\\t691 Bishop Street, Wilmette, IL 60091\\t(404) 892-8042\\tthomas.malinowski@fnst.com\\t1\\t1\\t0\\n',\n",
       " \"Charles Mitchell\\t977 S. Carson Street, Vernon Rockville, CT 06066\\t'+44 800 052 0626\\tganti.maitreyi@gmail.com\\t1\\t0\\t0\\n\",\n",
       " 'Tina Fisher\\t8937 Sierra St., Fort Washington, MD 20744\\t(303) 698-9252\\tdchamberlin@ca-mgmt.com\\t1\\t0\\t0\\n',\n",
       " 'Jeremy Mendez\\t73 Fairway St., Collegeville, PA 19426\\t(832) 636-1000\\tmbirk@centene.com\\t1\\t1\\t0\\n',\n",
       " \"David Green\\t722 Valley Dr., Orange Park, FL 32065\\t'+91 1800 103 3130\\ttglah@ets.org\\t0\\t1\\t0\\n\",\n",
       " 'Craig Powell\\t448 Hillcrest Lane, Muskegon, MI 49441\\t-\\tscott@pond5.com\\t0\\t0\\t1\\n',\n",
       " 'Rodney Harris\\t8757 Thorne Ave., Highland, IN 46322\\t(800) 999-0400\\twheidler@standardtextile.com\\t1\\t0\\t0\\n',\n",
       " 'Nancy Weber\\t880 North Stillwater Dr., Cockeysville, MD 21030\\t(316) 267-9221\\tdustin.montoya@elevationscu.com\\t1\\t1\\t0\\n',\n",
       " 'Glenn Wiley\\t539 N. Griffin Ave., Williamsport, PA 17701\\t(828) 324-2200\\tcolin.bradford@thoughtonomy.com\\t1\\t1\\t0\\n',\n",
       " 'Kelly Carter\\t9990 Roosevelt Ave., Wethersfield, CT 06109\\t(800) 869-3557\\tkalu.chaudhury@gmail.com\\t1\\t1\\t0\\n',\n",
       " 'Lisa Dudley\\t14 N. Iroquois Dr., Morrisville, PA 19067\\t(800) 531-8722\\tanthony.tjong@bmo.com\\t0\\t0\\t1\\n',\n",
       " 'Lisa Ewing\\t14 Windfall Court, Homestead, FL 33030\\t(800) 872-2657\\tajay.gopinath@abbott.com\\t1\\t0\\t0\\n',\n",
       " 'James Curry\\t539 N. Griffin Ave., Williamsport, PA 17701\\t(305) 428-8000\\tmike.bowers@dvn.com\\t1\\t0\\t0\\n',\n",
       " 'Michael Bush\\t8275 West Sutor Dr., Anchorage, AK 99504\\t(646) 453-7974\\tkmichelmore@harvestproperties.com\\t1\\t0\\t0\\n',\n",
       " 'Matthew Brooks\\t55 Beaver Ridge Ave., Kings Mountain, NC 28086\\t(800) 901-1087\\tdoug.jones@agcocorp.com\\t0\\t0\\t1\\n',\n",
       " \"Patrick Boyd\\t91 Colonial Dr., Chicago Heights, IL 60411\\t'+91 84479 65887\\takshay.gundawar@bigiota.in\\t1\\t1\\t0\\n\",\n",
       " 'Diana Walsh\\t607 South Philmont Drive, Midland, MI 48640\\t(650) 445-7700\\tbpritchett@nblenergy.com\\t0\\t1\\t0\\n',\n",
       " 'Crystal Hamilton\\t97 West Sheffield St., Wilson, NC 27893\\t(646) 453-7974\\trbeal@perrybrokerage.com\\t1\\t1\\t0\\n',\n",
       " 'Patrick Boyd\\t9658 West Pawnee Ave., New Windsor, NY 12553\\t-\\tlucie@pond5.com\\t0\\t0\\t1\\n',\n",
       " \"Ashley Pugh\\t63 Gonzales Avenue, Fernandina Beach, FL 32034\\t'+27 12 003 2059\\tbhavik.shah@lnttechservices.com\\t1\\t0\\t0\\n\",\n",
       " \"Amy Mullen\\t5 West Mill Pond Ave., Hyde Park, MA 02136\\t'+18886433477\\tanonya.bagchi@infostretch.com\\t1\\t0\\t0\\n\",\n",
       " 'Brooke Weaver\\t750 Saxon Ave., Nutley, NJ 07110\\t(937) 644-0439\\ttgoldman@shutterstock.com\\t0\\t1\\t0\\n',\n",
       " 'James Keith\\t7086 S. Ashley Drive, Waterford, MI 48329\\t(800) 560-9305\\trandy@johnsonhospitality.com\\t1\\t0\\t0\\n',\n",
       " 'Aaron Williams\\t792 Manchester Ave., Elyria, OH 44035\\t(814) 262-9325\\thala@rpost.com\\t0\\t1\\t0\\n',\n",
       " 'Gina Howard\\t607 South Philmont Drive, Midland, MI 48640\\t(631) 559-9877\\tsimon.tarbett@baringa.com\\t1\\t1\\t0\\n',\n",
       " 'Manuel Burns\\t234 Thomas Drive, Highland Park, IL 60035\\t(646) 453-7974\\tnbarr@lockton.com\\t1\\t0\\t0\\n',\n",
       " 'Ana Norris\\t182 E. Baker Street, Schaumburg, IL 60193\\t-\\trob.mechem@wearejust.co.uk\\t0\\t1\\t0\\n',\n",
       " 'Fred Mejia DDS\\t1 Brickell St., Upper Marlboro, MD 20772\\t(402) 342-3500\\tmasa@hulft.com\\t0\\t1\\t0\\n',\n",
       " 'Kelly Reed\\t7004 Delaware Street, Webster, NY 14580\\t-\\tarun.takhar@greenmangaming.com\\t0\\t0\\t1\\n',\n",
       " 'Eric Wright\\t63 Fordham Lane, Ephrata, PA 17522\\t(316) 267-9221\\tvalerie.ballard@walgreensbootsalliance.com\\t0\\t0\\t1\\n',\n",
       " 'Tracy Hickman\\t1 Young Avenue, Jupiter, FL 33458\\t(206) 302-6500\\tasim.ghanchi@bnsf.com\\t1\\t0\\t0\\n',\n",
       " \"Roy Dunn\\t7086 S. Ashley Drive, Waterford, MI 48329\\t'+44 1737 233288\\tgrant.roscoe@teaminc.com\\t1\\t1\\t0\\n\",\n",
       " 'Robert Ross\\t7940 Goldfield Ave., Centreville, VA 20120\\t(214) 744-6664\\tj_attia@acs.org\\t0\\t0\\t1\\n',\n",
       " 'Michele Price\\t9316 Pleasant St., Westbury, NY 11590\\t(330) 588-8000\\tdeepak@frintel.com\\t0\\t0\\t1\\n',\n",
       " 'Courtney Carlson\\t24 Cedar Swamp Ave., Stevens Point, WI 54481\\t832.247.9285\\tmary.mullaney@dickssportinggoods.com\\t1\\t0\\t0\\n',\n",
       " 'Justin Ponce\\t90 Tanglewood Drive, Teaneck, NJ 07666\\t(703) 284-5412\\tpmehta@kyrasolutions.com\\t0\\t0\\t1\\n',\n",
       " 'Tiffany Chung\\t857 South Kingston St., New Hyde Park, NY 11040\\t(937) 224-3300\\tian@staverton.co.uk\\t0\\t0\\t1\\n',\n",
       " 'Jennifer Klein\\t8504 East Olive Ave., Dracut, MA 01826\\t(800) 878-7878\\teric.verniaut@proalpha.com\\t1\\t0\\t0\\n',\n",
       " 'Christian Johnson\\t7197 Lyme Street, Clifton Park, NY 12065\\t(605) 338-8000\\tjordan.paulus@imacorp.com\\t0\\t1\\t0\\n',\n",
       " 'Kelly Carter\\t7027 West Princess Dr., Covington, GA 30014\\t-\\trobin@vivenet.com\\t0\\t1\\t0\\n',\n",
       " 'David Kennedy\\t132 Buttonwood Street, Philadelphia, PA 19111\\t(416) 867-3996\\tsourabh.pawar@cgi.com\\t1\\t1\\t0\\n',\n",
       " 'Raymond Parker\\t787 Pleasant Drive, Iowa City, IA 52240\\t(408) 727-5555\\tdavid.leedy@imacorp.com\\t0\\t1\\t0\\n',\n",
       " 'Stephen Maldonado\\t24 Ramblewood St., Camas, WA 98607\\t-\\tsachin.karla@infostretch.com\\t0\\t0\\t1\\n',\n",
       " 'Karen Gibson\\t7940 High St., Manahawkin, NJ 08050\\t(708) 534-5575\\tsue.hamilton@alcoa.com\\t0\\t1\\t0\\n',\n",
       " 'Jessica Warren\\t693 Valley Dr., Waukesha, WI 53186\\t-\\tguptashweta723@gmail.com\\t0\\t1\\t0\\n',\n",
       " 'James Herrera\\t8558 Del Monte Ave., Morganton, NC 28655\\t(212) 640-2000\\tsanjeev.kumar@publicissapient.com\\t0\\t0\\t1\\n',\n",
       " 'Rachel Higgins\\t41 Tanglewood Ave., Fullerton, CA 92831\\t-\\tkurt.knackstedt@troovo.com\\t0\\t0\\t1\\n',\n",
       " 'Shane Smith\\t7898 Queen Drive, Kent, OH 44240\\t(212) 640-2000\\tnaveen.chatlapalli@processweaver.com\\t0\\t0\\t1\\n',\n",
       " 'Lindsay Chavez\\t79 Glenridge St., Havertown, PA 19083\\t-\\tspop@adobe.com\\t1\\t1\\t0\\n',\n",
       " \"Frank Santos\\t8701 Indian Summer Ave., Canton, GA 30114\\t'+49 89 6933330\\trbeal@perrybrokerage.com\\t1\\t1\\t0\\n\",\n",
       " 'Cassandra Gibson\\t786 Franklin Street, Waterloo, IA 50701\\t(816) 960-9000\\tgopi.yalakanti@gmail.com\\t1\\t1\\t0\\n',\n",
       " 'Robert Shannon\\t86 Snake Hill St., York, PA 17402\\t(937) 224-3300\\tkeith_kilcrease@oxy.com\\t1\\t1\\t0\\n',\n",
       " \"Steven Fox\\t14 Carson Ave., Chambersburg, PA 17201\\t'+27 12 003 2059\\tsonesh.bansal@techmahindra.com\\t1\\t0\\t0\\n\",\n",
       " 'Michelle Walker\\t9134 Myrtle Street, Mundelein, IL 60060\\t(414) 566-6000\\tmarzena.erkelens@panasonic.aero\\t0\\t0\\t1\\n',\n",
       " 'Patrick Young\\t842 Hall Court, Canfield, OH 44406\\t-\\tmark.blemings@cfins.com\\t1\\t1\\t0\\n']"
      ]
     },
     "execution_count": 17,
     "metadata": {},
     "output_type": "execute_result"
    }
   ],
   "source": [
    "records"
   ]
  },
  {
   "cell_type": "code",
   "execution_count": 18,
   "id": "c694a29c",
   "metadata": {},
   "outputs": [],
   "source": [
    "f = open(join(working_dir, 'test_data.csv'), 'w')\n",
    "f.writelines(records)\n",
    "f.close()\n"
   ]
  },
  {
   "cell_type": "code",
   "execution_count": null,
   "id": "9d25177b",
   "metadata": {},
   "outputs": [],
   "source": [
    "\n",
    "\n"
   ]
  },
  {
   "cell_type": "code",
   "execution_count": null,
   "id": "63853ca1",
   "metadata": {},
   "outputs": [],
   "source": []
  },
  {
   "cell_type": "code",
   "execution_count": null,
   "id": "a1467523",
   "metadata": {},
   "outputs": [],
   "source": []
  },
  {
   "cell_type": "code",
   "execution_count": null,
   "id": "27450f03",
   "metadata": {},
   "outputs": [],
   "source": []
  },
  {
   "cell_type": "code",
   "execution_count": 20,
   "id": "6fda9d01",
   "metadata": {},
   "outputs": [
    {
     "data": {
      "text/plain": [
       "<matplotlib.image.AxesImage at 0x22fb1ba70d0>"
      ]
     },
     "execution_count": 20,
     "metadata": {},
     "output_type": "execute_result"
    },
    {
     "data": {
      "image/png": "[encoded data removed]",
      "text/plain": [
       "<Figure size 432x288 with 1 Axes>"
      ]
     },
     "metadata": {
      "needs_background": "light"
     },
     "output_type": "display_data"
    }
   ],
   "source": [
    "\n",
    "\n",
    "\n",
    "# print to a file-like object:\n",
    "# rv = io.BytesIO()\n",
    "# EAN13(str(1).zfill(12), writer=ImageWriter()).write(rv)\n",
    "\n",
    "# or sure, to an actual file:\n",
    "ean = barcode.get('ean13', '2311'.zfill(12), writer=barcode.writer.ImageWriter())\n",
    "filename = ean.save('somefile')\n",
    "\n",
    "img = cv2.imread('somefile.png', 0)\n",
    "plt.imshow(img)"
   ]
  },
  {
   "cell_type": "code",
   "execution_count": null,
   "id": "eb60c78c",
   "metadata": {},
   "outputs": [],
   "source": []
  },
  {
   "cell_type": "code",
   "execution_count": null,
   "id": "62f7d907",
   "metadata": {},
   "outputs": [],
   "source": []
  }
 ],
 "metadata": {
  "kernelspec": {
   "display_name": "Python 3 (ipykernel)",
   "language": "python",
   "name": "python3"
  },
  "language_info": {
   "codemirror_mode": {
    "name": "ipython",
    "version": 3
   },
   "file_extension": ".py",
   "mimetype": "text/x-python",
   "name": "python",
   "nbconvert_exporter": "python",
   "pygments_lexer": "ipython3",
   "version": "3.9.7"
  }
 },
 "nbformat": 4,
 "nbformat_minor": 5
}
