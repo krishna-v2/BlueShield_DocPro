{
 "cells": [
  {
   "cell_type": "code",
   "execution_count": 1,
   "id": "dce8fced",
   "metadata": {},
   "outputs": [],
   "source": [
    "import pandas as pd\n",
    "from os import listdir\n",
    "from os.path import isfile,isdir,join, basename\n",
    "from BS_MainFile import BlueShield"
   ]
  },
  {
   "cell_type": "code",
   "execution_count": 2,
   "id": "fda0515a",
   "metadata": {},
   "outputs": [],
   "source": [
    "src = r'C:\\Users\\Krishna Sahoo\\Documents\\Python Venv\\BlueShield\\BS_Demo\\filled_forms'\n",
    "bs = BlueShield('brc_template1')"
   ]
  },
  {
   "cell_type": "code",
   "execution_count": 3,
   "id": "30c3c72b",
   "metadata": {},
   "outputs": [],
   "source": [
    "bs.extract_data_from_folder(src)"
   ]
  }
 ],
 "metadata": {
  "kernelspec": {
   "display_name": "Python 3 (ipykernel)",
   "language": "python",
   "name": "python3"
  },
  "language_info": {
   "codemirror_mode": {
    "name": "ipython",
    "version": 3
   },
   "file_extension": ".py",
   "mimetype": "text/x-python",
   "name": "python",
   "nbconvert_exporter": "python",
   "pygments_lexer": "ipython3",
   "version": "3.9.12"
  }
 },
 "nbformat": 4,
 "nbformat_minor": 5
}
