{
 "cells": [
  {
   "cell_type": "code",
   "execution_count": 1,
   "id": "dce8fced",
   "metadata": {},
   "outputs": [],
   "source": [
    "import pandas as pd\n",
    "from os import listdir\n",
    "from os.path import isfile,isdir,join, basename\n",
    "from BS_MainFile import BlueShield"
   ]
  },
  {
   "cell_type": "code",
   "execution_count": 2,
   "id": "fda0515a",
   "metadata": {},
   "outputs": [],
   "source": [
    "src = r'C:\\Users\\Krishna Sahoo\\Documents\\Python Venv\\BlueShield\\BS_Demo\\filled_forms'\n",
    "bs = BlueShield('brc_template1')"
   ]
  },
  {
   "cell_type": "code",
   "execution_count": 3,
   "id": "30c3c72b",
   "metadata": {},
   "outputs": [],
   "source": [
    "# bs.extract_data_from_folder(src)"
   ]
  },
  {
   "cell_type": "markdown",
   "id": "604d1b4a",
   "metadata": {},
   "source": [
    "## Test"
   ]
  },
  {
   "cell_type": "code",
   "execution_count": 4,
   "id": "f81fd0e9",
   "metadata": {},
   "outputs": [
    {
     "data": {
      "text/html": [
       "<div>\n",
       "<style scoped>\n",
       "    .dataframe tbody tr th:only-of-type {\n",
       "        vertical-align: middle;\n",
       "    }\n",
       "\n",
       "    .dataframe tbody tr th {\n",
       "        vertical-align: top;\n",
       "    }\n",
       "\n",
       "    .dataframe thead th {\n",
       "        text-align: right;\n",
       "    }\n",
       "</style>\n",
       "<table border=\"1\" class=\"dataframe\">\n",
       "  <thead>\n",
       "    <tr style=\"text-align: right;\">\n",
       "      <th></th>\n",
       "      <th>ID</th>\n",
       "      <th>name</th>\n",
       "      <th>address</th>\n",
       "      <th>phone</th>\n",
       "      <th>email</th>\n",
       "      <th>mail_checkbox</th>\n",
       "      <th>phone_checkbox</th>\n",
       "      <th>email_checkbox</th>\n",
       "    </tr>\n",
       "  </thead>\n",
       "  <tbody>\n",
       "    <tr>\n",
       "      <th>0</th>\n",
       "      <td>0</td>\n",
       "      <td>Mario Patterson</td>\n",
       "      <td>11 Spring St., Parlin, NJ 08859</td>\n",
       "      <td>(800) 272-2216</td>\n",
       "      <td>pmehta@kyrasolutions.com</td>\n",
       "      <td>0</td>\n",
       "      <td>0</td>\n",
       "      <td>1</td>\n",
       "    </tr>\n",
       "    <tr>\n",
       "      <th>1</th>\n",
       "      <td>1</td>\n",
       "      <td>Mrs. Patricia Rodriguez</td>\n",
       "      <td>825 N. Prospect St., Ellicott City, MD 21042</td>\n",
       "      <td>-</td>\n",
       "      <td>olivier.kohler@wsj.com</td>\n",
       "      <td>1</td>\n",
       "      <td>1</td>\n",
       "      <td>0</td>\n",
       "    </tr>\n",
       "    <tr>\n",
       "      <th>2</th>\n",
       "      <td>2</td>\n",
       "      <td>Mario Martin</td>\n",
       "      <td>49 Saxton Lane, Simpsonville, SC 29680</td>\n",
       "      <td>(800) 724-2440</td>\n",
       "      <td>syi@gamefly.com</td>\n",
       "      <td>0</td>\n",
       "      <td>0</td>\n",
       "      <td>1</td>\n",
       "    </tr>\n",
       "    <tr>\n",
       "      <th>3</th>\n",
       "      <td>3</td>\n",
       "      <td>Philip Dorsey</td>\n",
       "      <td>480 Grove Ave., Newington, CT 06111</td>\n",
       "      <td>'+44 20 7486 5888</td>\n",
       "      <td>stocklam@rogers.com</td>\n",
       "      <td>1</td>\n",
       "      <td>1</td>\n",
       "      <td>0</td>\n",
       "    </tr>\n",
       "    <tr>\n",
       "      <th>4</th>\n",
       "      <td>4</td>\n",
       "      <td>Kimberly Landry</td>\n",
       "      <td>561 N. Vernon St., North Canton, OH 44720</td>\n",
       "      <td>'+82 2-6200-9700</td>\n",
       "      <td>paul.rodgers@microfocus.com</td>\n",
       "      <td>0</td>\n",
       "      <td>0</td>\n",
       "      <td>1</td>\n",
       "    </tr>\n",
       "  </tbody>\n",
       "</table>\n",
       "</div>"
      ],
      "text/plain": [
       "   ID                     name                                       address  \\\n",
       "0   0          Mario Patterson               11 Spring St., Parlin, NJ 08859   \n",
       "1   1  Mrs. Patricia Rodriguez  825 N. Prospect St., Ellicott City, MD 21042   \n",
       "2   2             Mario Martin        49 Saxton Lane, Simpsonville, SC 29680   \n",
       "3   3            Philip Dorsey           480 Grove Ave., Newington, CT 06111   \n",
       "4   4          Kimberly Landry     561 N. Vernon St., North Canton, OH 44720   \n",
       "\n",
       "               phone                        email  mail_checkbox  \\\n",
       "0     (800) 272-2216     pmehta@kyrasolutions.com              0   \n",
       "1                  -       olivier.kohler@wsj.com              1   \n",
       "2     (800) 724-2440              syi@gamefly.com              0   \n",
       "3  '+44 20 7486 5888          stocklam@rogers.com              1   \n",
       "4   '+82 2-6200-9700  paul.rodgers@microfocus.com              0   \n",
       "\n",
       "   phone_checkbox  email_checkbox  \n",
       "0               0               1  \n",
       "1               1               0  \n",
       "2               0               1  \n",
       "3               1               0  \n",
       "4               0               1  "
      ]
     },
     "execution_count": 4,
     "metadata": {},
     "output_type": "execute_result"
    }
   ],
   "source": [
    "base_folder = r'C:\\Users\\Krishna Sahoo\\Documents\\Python Venv\\BlueShield\\BS_Demo'\n",
    "ground_truth = pd.read_excel(join(base_folder, 'test_data.xlsx'), sheet_name = 'test_data')\n",
    "ground_truth.head()"
   ]
  },
  {
   "cell_type": "code",
   "execution_count": 15,
   "id": "42973fc3",
   "metadata": {},
   "outputs": [],
   "source": [
    "test_folder = join(base_folder, 'test_images')\n",
    "test_files = listdir(test_folder)\n",
    "test_files = [join(test_folder, f) for f in test_files if f.endswith('.png')]"
   ]
  },
  {
   "cell_type": "code",
   "execution_count": 20,
   "id": "c0dd5e2e",
   "metadata": {},
   "outputs": [
    {
     "ename": "SyntaxError",
     "evalue": "'operator' is an illegal expression for augmented assignment (580807553.py, line 16)",
     "output_type": "error",
     "traceback": [
      "\u001b[1;36m  Input \u001b[1;32mIn [20]\u001b[1;36m\u001b[0m\n\u001b[1;33m    'tp'+'_'+field += 1\u001b[0m\n\u001b[1;37m    ^\u001b[0m\n\u001b[1;31mSyntaxError\u001b[0m\u001b[1;31m:\u001b[0m 'operator' is an illegal expression for augmented assignment\n"
     ]
    }
   ],
   "source": [
    "# tp_mail_checkbox, tn_mail_checkbox, fp_mail_checkbox, fn_mail_checkbox = [], [], [], []\n",
    "# tp_mail_checkbox, tn_mail_checkbox, fp_mail_checkbox, fn_mail_checkbox = 0, 0, 0, 0\n",
    "# tp_phone_checkbox, tn_phone_checkbox, fp_phone_checkbox, fn_phone_checkbox = [], [], [], []\n",
    "# tp_phone_checkbox, tn_phone_checkbox, fp_phone_checkbox, fn_phone_checkbox = 0, 0, 0, 0\n",
    "# tp_email_checkbox, tn_email_checkbox, fp_email_checkbox, fn_email_checkbox = [], [], [], []\n",
    "# tp_email_checkbox, tn_email_checkbox, fp_email_checkbox, fn_email_checkbox = 0, 0, 0, 0\n",
    "\n",
    "result = {}\n",
    "for f in test_files:\n",
    "    result = bs.extract_data(f)\n",
    "    \n",
    "    gt_ID = int(basename(f).split('.')[0])\n",
    "    for field in [\"mail_checkbox\", \"phone_checkbox\", \"email_checkbox\"]:\n",
    "        gt_checkbox = ground_truth.loc[gt_ID, field]\n",
    "        if gt_checkbox == 1 and result[field] == 1:\n",
    "            'tp'+'_'+field += 1\n",
    "        elif gt_checkbox == 0 and result[field] == 0:\n",
    "            'tn'+'_'+field += 1\n",
    "        elif gt_checkbox == 0 and result[field] == 1:\n",
    "            'fp'+'_'+field += 1\n",
    "        elif gt_checkbox == 1 and result[field] == 0:\n",
    "            'fn'+'_'+field += 1\n",
    "#print(\"tp:\",tp, \"tn:\", tn, \"fp:\", fp, \"fn:\", fn )\n",
    "        break"
   ]
  },
  {
   "cell_type": "code",
   "execution_count": 21,
   "id": "e608b333",
   "metadata": {},
   "outputs": [
    {
     "name": "stdout",
     "output_type": "stream",
     "text": [
      "{'ID': '000000000000', 'name': 'Mario Patterson', 'address': '11 Spring St.Parlin, NJ 08859', 'phone': 'J_872–2216', 'email': 'pmehta@Kyoasolutions.comi', 'mail_checkbox': 0, 'phone_checkbox': 0, 'email_checkbox': 1}\n",
      "{'ID': '000000000001', 'name': 'Mrs. Patricia Rodriguez', 'address': '825 N. Prospect St.Ellicott City, MD 21042', 'phone': '', 'email': '.', 'mail_checkbox': 1, 'phone_checkbox': 1, 'email_checkbox': 0}\n",
      "{'ID': '000000000010', 'name': 'Jon Khan', 'address': '91 Roehampton Rd.Massapequa Park, NY 11762', 'phone': '', 'email': 'cocom', 'mail_checkbox': 1, 'phone_checkbox': 1, 'email_checkbox': 0}\n",
      "{'ID': '000000000011', 'name': 'Ethan Davis', 'address': '301 Smoky Hollow Ave.Harrison Township, MI 48045', 'phone': '', 'email': 'laking@adobe.com', 'mail_checkbox': 0, 'phone_checkbox': 1, 'email_checkbox': 0}\n",
      "{'ID': '00000000', 'name': 'Cynthia Jackson', 'address': '382 Riverside Ave.Millville, NJ 08332', 'phone': '832I247.9285', 'email': 'tony.Minana@digitalworkforce.dk', 'mail_checkbox': 0, 'phone_checkbox': 1, 'email_checkbox': 0}\n",
      "{'ID': '000000000013', 'name': 'Jennifer Lewis', 'address': '848 York LaneAlgonquin, IL 60102', 'phone': '408492-1650', 'email': 'anthony.stifano@hbc.com', 'mail_checkbox': 0, 'phone_checkbox': 0, 'email_checkbox': 1}\n",
      "{'ID': '', 'name': 'fared Solis', 'address': '545 Magnolia St.Richardson, TX 75080', 'phone': '6173749600', 'email': 'tE-connelly@acs.org@', 'mail_checkbox': 1, 'phone_checkbox': 1, 'email_checkbox': 0}\n",
      "{'ID': '000000000015', 'name': 'Jesse Ball', 'address': '860 Rockland St.Harrisburg, PA 17109', 'phone': '80014265962', 'email': 'fola.soyoyeeonyxhealth.io', 'mail_checkbox': 1, 'phone_checkbox': 0, 'email_checkbox': 0}\n",
      "{'ID': '000000000016', 'name': 'Monique Lynch', 'address': '85 Forest Ave.Bridgeton, NJ 08302', 'phone': '001901-1087', 'email': 'leigh.pullen@cigen.com.au', 'mail_checkbox': 1, 'phone_checkbox': 1, 'email_checkbox': 0}\n",
      "{'ID': '000000000017', 'name': 'Raymond Woods', 'address': '385 SE. Shirley Dr.Culpeper, VA 22701', 'phone': '646865-2000', 'email': 'pierre.w@sap.com', 'mail_checkbox': 0, 'phone_checkbox': 0, 'email_checkbox': 1}\n",
      "{'ID': '000000000018', 'name': 'Olivia Taylor', 'address': '987 El Dorado AvenueLorain, OH 44052', 'phone': '289).562-0088', 'email': 'kmcloughlin@shutterstock.com', 'mail_checkbox': 0, 'phone_checkbox': 1, 'email_checkbox': 0}\n",
      "{'ID': '000000000019', 'name': 'Justin Morales', 'address': '8490 East Sutor Dr.New Rochelle, NY 10801', 'phone': '828)324-2200', 'email': 'Cumy.romagnoli@agilent.com', 'mail_checkbox': 0, 'phone_checkbox': 0, 'email_checkbox': 1}\n",
      "{'ID': '000000000002', 'name': 'Mario Martin', 'address': '49 Saxton LaneSimpsonville, SC 29680', 'phone': '', 'email': '1', 'mail_checkbox': 0, 'phone_checkbox': 0, 'email_checkbox': 1}\n",
      "{'ID': '000000000020', 'name': 'Brianna Wagner', 'address': '9014 Oxford Ave.Bethlehem, PÅ 18015', 'phone': '_21614443900', 'email': 'aarthi.cadambe@wellfergo.com', 'mail_checkbox': 1, 'phone_checkbox': 1, 'email_checkbox': 0}\n",
      "{'ID': '000000000021', 'name': 'Shawn Gonzalez', 'address': '14 Windfall CourtHomestead, FL 33030', 'phone': 't1855/7106984', 'email': 'Jason@careerbillar.com', 'mail_checkbox': 0, 'phone_checkbox': 1, 'email_checkbox': 0}\n",
      "{'ID': '000000000022', 'name': 'Alexandra Flores', 'address': '162 Pennsylvania AvenueBallston Spa, NY 12020', 'phone': '(1651|_737-6523', 'email': 'tariyadarshimichrall@gmail.com', 'mail_checkbox': 1, 'phone_checkbox': 0, 'email_checkbox': 0}\n",
      "{'ID': '000000000023', 'name': 'Frank Baker', 'address': '803 North St.Henrico, VA 23228', 'phone': '(877I3025073', 'email': 'venkat,arakoniaCommscobe.com', 'mail_checkbox': 0, 'phone_checkbox': 1, 'email_checkbox': 0}\n",
      "{'ID': '000000000024', 'name': 'Gary Watts', 'address': '9598 East Hamilton Rd.Roy, UT 84067', 'phone': '', 'email': 'noaltimelissa.clark@caresource.com', 'mail_checkbox': 0, 'phone_checkbox': 0, 'email_checkbox': 1}\n",
      "{'ID': '000000000025', 'name': 'Crystal Hamilton', 'address': '9863 Cobblestone LaneMalvern, PA 19355', 'phone': '1.908.).9778520', 'email': 'barrett:shrader@protiviticom', 'mail_checkbox': 1, 'phone_checkbox': 1, 'email_checkbox': 0}\n",
      "{'ID': '000000000026', 'name': 'Benjamin Robertson', 'address': '684 Valley View RoadEl Paso, TX 79930', 'phone': '12028724600', 'email': 'John.bird@abbott.com', 'mail_checkbox': 1, 'phone_checkbox': 0, 'email_checkbox': 0}\n",
      "{'ID': '000000000027', 'name': 'Andrew Matthews', 'address': '38 Manor DriveFreeport, NY 11520', 'phone': '(770)8139200', 'email': 'Jasonbondanteanadarko.com', 'mail_checkbox': 0, 'phone_checkbox': 1, 'email_checkbox': 0}\n",
      "{'ID': '000000000028', 'name': 'Eric Bell', 'address': '56 Grant St.Englewood, NJ 07631', 'phone': 'sio).594-9500', 'email': 'Jean.Olivieri@adb.com', 'mail_checkbox': 0, 'phone_checkbox': 1, 'email_checkbox': 0}\n",
      "{'ID': '000000000029', 'name': 'David Kennedy', 'address': '587 Manhattan LaneLanham, MD 20706', 'phone': '976)3205040', 'email': 'bestebianchi@Sandvik.com', 'mail_checkbox': 0, 'phone_checkbox': 0, 'email_checkbox': 1}\n",
      "{'ID': '000000000003', 'name': 'Philip Dorsey', 'address': '480 Grove Ave.Newington, CT 06111', 'phone': '', 'email': '.', 'mail_checkbox': 1, 'phone_checkbox': 1, 'email_checkbox': 0}\n",
      "{'ID': '000000000004', 'name': 'Kimberly Landry', 'address': '561 N. Vernon St.North Canton, OH 44720', 'phone': '', 'email': 'I', 'mail_checkbox': 0, 'phone_checkbox': 0, 'email_checkbox': 1}\n",
      "{'ID': '000000000005', 'name': 'Jennifer Klein', 'address': '8278 SE. Bridgeton Ave.Adrian, MI 49221', 'phone': '', 'email': '1', 'mail_checkbox': 0, 'phone_checkbox': 1, 'email_checkbox': 0}\n",
      "{'ID': '000000000006', 'name': 'Roberta Fox', 'address': '205 Brickyard CircleAberdeen, SD 57401', 'phone': '7', 'email': '.', 'mail_checkbox': 0, 'phone_checkbox': 0, 'email_checkbox': 1}\n",
      "{'ID': '000000000', 'name': 'Kathleen Hampton', 'address': '35 James AvenueGriffin, GA 30223', 'phone': '', 'email': '|', 'mail_checkbox': 1, 'phone_checkbox': 1, 'email_checkbox': 0}\n",
      "{'ID': '', 'name': 'Heather Henson', 'address': '225 Smoky Hollow StreetManitowoc, WI 54220', 'phone': '8881_932-8373', 'email': 'abacaacaesars.com', 'mail_checkbox': 1, 'phone_checkbox': 1, 'email_checkbox': 0}\n",
      "{'ID': '000000000009', 'name': 'Morgan Booker', 'address': '612 Cardinal Ave.The Villages, FL 32162', 'phone': '', 'email': 'I', 'mail_checkbox': 0, 'phone_checkbox': 0, 'email_checkbox': 1}\n",
      "tp: 17 tn: 13 fp: 0 fn: 0\n"
     ]
    }
   ],
   "source": [
    "tp, tn, fp, fn = [], [], [], []\n",
    "tp, tn, fp, fn = 0, 0, 0, 0\n",
    "result = {}\n",
    "for f in test_files:\n",
    "    result = bs.extract_data(f)\n",
    "    print(result)\n",
    "    gt_ID = int(basename(f).split('.')[0])\n",
    "    gt_phone_checkbox = ground_truth.loc[gt_ID,'phone_checkbox']\n",
    "    if gt_phone_checkbox == 1 and result['phone_checkbox'] == 1:\n",
    "        tp += 1\n",
    "    elif gt_phone_checkbox == 0 and result['phone_checkbox'] == 0:\n",
    "        tn += 1\n",
    "    elif gt_phone_checkbox == 0 and result['phone_checkbox'] == 1:\n",
    "        fp += 1\n",
    "    elif gt_phone_checkbox == 1 and result['phone_checkbox'] == 0:\n",
    "        fn += 1\n",
    "print(\"tp:\",tp, \"tn:\", tn, \"fp:\", fp, \"fn:\", fn ) "
   ]
  },
  {
   "cell_type": "code",
   "execution_count": 18,
   "id": "62681ca3",
   "metadata": {},
   "outputs": [
    {
     "name": "stdout",
     "output_type": "stream",
     "text": [
      "0   pmehta@kyrasolutions.com   pmehta&kyoasolutions.com   2\n",
      "1   olivier.kohler@wsj.com   i   21\n",
      "10   tim@droidsagency.com   cocom   16\n",
      "11   laking@adobe.com   laking@adobe.com   0\n",
      "12   tony.minana@digitalworkforce.dk   tony.minana@digitalworkforce.dk   0\n",
      "13   anthony.stifano@hbc.com   anthony.stifano@nbc.com   1\n",
      "14   t_connelly@acs.org   te-connelly@acs.org@   3\n",
      "15   fola.soyoye@onyxhealth.io   fola.soyoyeeonyxhealth.io   1\n",
      "16   leigh.pullen@cigen.com.au   leigh.pullen@cigen.com.au   0\n",
      "17   pierre.col@sap.com   pierre.col@sap.com   0\n",
      "18   kmcloughlin@shutterstock.com   kmcloughlin@shutterstock.com   0\n",
      "19   amy.romagnoli@agilent.com   cumy.romagnoli@agilent.com   2\n",
      "2   syi@gamefly.com   1   15\n",
      "20   aarthi.cadambe@wellsfargo.com   aarthi.cadambe@wellsfergo.com   1\n",
      "21   jason@careerpillar.com   jason@careerbillar.com   1\n",
      "22   priyadarshimishra13@gmail.com   tariyadarshimithrall@gmail.com   5\n",
      "23   venkat.arakoni@commscope.com   venkat,arakoniacommscobe.com   3\n",
      "24   melissa.clack@caresource.com   nealtamelissa.clark@caresource.com   7\n",
      "25   barrett.shrader@protiviti.com   barrett:shrader@protiviticom@   3\n",
      "26   john.bird@abbott.com   john.bird@abbott   4\n",
      "27   jason.pondant@anadarko.com   jasonpondant@anadarko.com   1\n",
      "28   jean.olivieri@adp.com   jean.olivieri@adb.com   1\n",
      "29   paolo.bianchi@sandvik.com   ballobianchi@sandvik.com   3\n",
      "3   stocklam@rogers.com   .   18\n",
      "4   paul.rodgers@microfocus.com   i   26\n",
      "5   ishay@rentalbeast.com    i   21\n",
      "6   William.Pugliese@arvatousa.com   william.pugliese@aovalousa.com|   5\n",
      "7   kschellhase1@gmail.com   i   21\n",
      "8   abaca@caesars.com   i   17\n",
      "9   kmichelmore@harvestproperties.com   i   32\n",
      "email accuracy: 0.16666666666666666\n"
     ]
    }
   ],
   "source": [
    "import editdistance\n",
    "\n",
    "result = {}\n",
    "correct = 0\n",
    "for f in test_files:\n",
    "    result = bs.extract_data(f)\n",
    "    gt_ID = int(basename(f).split('.')[0])\n",
    "    gt_email = ground_truth.loc[gt_ID,'email']\n",
    "    extract_email = result['email'].lower()\n",
    "    sim_email = editdistance.eval(gt_email, extract_email)\n",
    "    print(gt_ID,' ', gt_email,' ', extract_email,' ', sim_email)\n",
    "    if sim_email == 0:\n",
    "        correct += 1\n",
    "accuracy = correct/len(test_files)\n",
    "print('email accuracy:', accuracy)"
   ]
  },
  {
   "cell_type": "code",
   "execution_count": 19,
   "id": "6c0e43a3",
   "metadata": {},
   "outputs": [
    {
     "name": "stdout",
     "output_type": "stream",
     "text": [
      "0   8002722216   80012722216   1\n",
      "1         0\n",
      "10   8003668201      10\n",
      "11         0\n",
      "12   8322479285   8322479285   0\n",
      "13   4084921650   4084921650   0\n",
      "14   6173749600   6173749600   0\n",
      "15   8004265962   80014265962   1\n",
      "16   8009011087   0019011087   2\n",
      "17   6468652000   46865200   2\n",
      "18   2895620088   2895620088   0\n",
      "19   8283242200   8283242200   0\n",
      "2   8007242440      10\n",
      "20   2164443900   21614443900   1\n",
      "21   18557106984   185517106984   1\n",
      "22   6517376523   6517376523   0\n",
      "23   8773025073   18773025073   1\n",
      "24         0\n",
      "25   9089778520   9778520   3\n",
      "26   2028724600   2028724600   0\n",
      "27   7708139200   7708139200   0\n",
      "28   5105942050   5949500   6\n",
      "29   9783205040   9763205040   1\n",
      "3   442074865888      12\n",
      "4   82262009700      11\n",
      "5   3147254477      10\n",
      "6   4087275555   7   9\n",
      "7   2246676100      10\n",
      "8   8889328373      10\n",
      "9   7136728080      10\n",
      "phone accuracy: 0.36666666666666664\n"
     ]
    }
   ],
   "source": [
    "result = {}\n",
    "correct = 0\n",
    "for f in test_files:\n",
    "    result = bs.extract_data(f)\n",
    "    gt_ID = int(basename(f).split('.')[0])\n",
    "    gt_phone = ground_truth.loc[gt_ID,'phone']\n",
    "    gt_phone = (''.join(filter(str.isdigit, gt_phone)))\n",
    "    extract_phone = (''.join(filter(str.isdigit, result['phone'])))\n",
    "    sim_phone = editdistance.eval(gt_phone, extract_phone)\n",
    "    print(gt_ID,' ', gt_phone,' ', extract_phone,' ',sim_phone)\n",
    "    if sim_phone == 0:\n",
    "        correct += 1\n",
    "accuracy = correct/len(test_files)\n",
    "print('phone accuracy:', accuracy)"
   ]
  },
  {
   "cell_type": "code",
   "execution_count": null,
   "id": "61f351ab",
   "metadata": {},
   "outputs": [],
   "source": []
  }
 ],
 "metadata": {
  "kernelspec": {
   "display_name": "Python 3 (ipykernel)",
   "language": "python",
   "name": "python3"
  },
  "language_info": {
   "codemirror_mode": {
    "name": "ipython",
    "version": 3
   },
   "file_extension": ".py",
   "mimetype": "text/x-python",
   "name": "python",
   "nbconvert_exporter": "python",
   "pygments_lexer": "ipython3",
   "version": "3.9.12"
  }
 },
 "nbformat": 4,
 "nbformat_minor": 5
}
